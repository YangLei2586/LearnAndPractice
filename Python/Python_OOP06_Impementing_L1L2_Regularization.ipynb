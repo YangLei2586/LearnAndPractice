{
 "cells": [
  {
   "cell_type": "markdown",
   "metadata": {},
   "source": [
    "## Below codes is meant to built to ompare different House price prediction models built using plain Linear Regression, Lasso Regression and Ridge Regression to better understand and demonstrate the effects of Lasso Regression and Ridge Regression, aka L1/L2 Regularization. Dataset of house price is downloaded from Kaggle"
   ]
  },
  {
   "cell_type": "code",
   "execution_count": null,
   "metadata": {},
   "outputs": [],
   "source": [
    "# Step 1: Importing the required libraries\n",
    "import pandas as pd\n",
    "import numpy as np\n",
    "import matplotlib.pyplot as plt\n",
    "from sklearn.linear_model import LinearRegression, Ridge, Lasso\n",
    "from sklearn.model_selection import train_test_split, cross_val_score\n",
    "from statistics import mean"
   ]
  },
  {
   "cell_type": "code",
   "execution_count": 27,
   "metadata": {},
   "outputs": [],
   "source": [
    "# Step 2: Loading and cleaning the data\n",
    "data = pd.read_csv(\"C:/Users/LylionCj/Desktop/Demo Proforlio/PythonCodes/kc_house_data.csv\",sep=',')\n",
    "# Dropping the numerically non-sensical variables\n",
    "dropColumns = ['id','date','zipcode']\n",
    "data = data.drop(dropColumns, axis = 1)\n",
    "# Dropping the Nan values\n",
    "data = data.dropna(axis=0, how='any', thresh=None, subset=None, inplace=False)\n",
    "# Separating the dependent and independent variables\n",
    "y = data['price']\n",
    "X = data.drop('price',axis=1)\n",
    "# Dividing the data into training an testing set \n",
    "X_train, X_test, y_train, y_test = train_test_split(X,y,test_size=0.25)\n",
    "y_test = np.nan_to_num(y_test)"
   ]
  },
  {
   "cell_type": "code",
   "execution_count": 28,
   "metadata": {},
   "outputs": [
    {
     "name": "stdout",
     "output_type": "stream",
     "text": [
      "0.6976282426249267\n"
     ]
    }
   ],
   "source": [
    "# Step 3: Building and evaluating different models\n",
    "## A) Building a Linear Regression prediction model \n",
    "linearModel = LinearRegression()\n",
    "linearModel.fit(X_train, y_train)\n",
    "\n",
    "## Evaluating the linear regression model \n",
    "print(linearModel.score(X_test,y_test))"
   ]
  },
  {
   "cell_type": "code",
   "execution_count": 30,
   "metadata": {},
   "outputs": [
    {
     "name": "stdout",
     "output_type": "stream",
     "text": [
      "0.25:69.09015837671012\n",
      "0.5:69.09033468066413\n",
      "0.75:69.09049125083848\n",
      "1.0:69.09062828999275\n",
      "1.25:69.09074599856254\n",
      "1.5:69.09084457469037\n",
      "1.75:69.0909242142566\n",
      "2.0:69.09098511090886\n"
     ]
    }
   ],
   "source": [
    "## B) Building a Ridge Regression prediction model\n",
    "# List to maintain the different cross validation scores\n",
    "cross_val_scores_ridge = [ ]\n",
    "# List to maintain the different values of alpha \n",
    "alpha = [ ]\n",
    "# Loop to compute the different values of cross validation scores \n",
    "for i in range(1,9):\n",
    "    ridgeModel = Ridge(alpha = i * 0.25)\n",
    "    ridgeModel.fit(X_train, y_train)\n",
    "    scores = cross_val_score(ridgeModel, X, y,cv=10)\n",
    "    avg_cross_val_score = mean(scores) * 100\n",
    "    cross_val_scores_ridge.append(avg_cross_val_score)\n",
    "    alpha.append(i*0.25)\n",
    "    \n",
    "# Loop to print the different values of cross validation scores \n",
    "for i in range(0,len(alpha)):\n",
    "    print(str(alpha[i])+ ':'+str(cross_val_scores_ridge[i]) )"
   ]
  },
  {
   "cell_type": "markdown",
   "metadata": {},
   "source": [
    "## From the above output we can conclude that the best value of alpha for the data is 2"
   ]
  },
  {
   "cell_type": "code",
   "execution_count": 31,
   "metadata": {},
   "outputs": [
    {
     "name": "stdout",
     "output_type": "stream",
     "text": [
      "0.697530135700664\n"
     ]
    }
   ],
   "source": [
    "# Building and fitting the Ridge Regression model\n",
    "ridgeModelChosen = Ridge(alpha = 2)\n",
    "ridgeModelChosen.fit(X_train,y_train)\n",
    "# Evaluating the Ridge Regression Model\n",
    "print(ridgeModelChosen.score(X_test,y_test))"
   ]
  },
  {
   "cell_type": "code",
   "execution_count": 32,
   "metadata": {},
   "outputs": [
    {
     "name": "stdout",
     "output_type": "stream",
     "text": [
      "0.25:69.08996762461638\n",
      "0.5:69.08997309354581\n",
      "0.75:69.08997853389327\n",
      "1.0:69.08998394768226\n",
      "1.25:69.0899893270766\n",
      "1.5:69.08999467945567\n",
      "1.75:69.09000001882957\n",
      "2.0:69.09000531192426\n"
     ]
    }
   ],
   "source": [
    "## C) Building the Lasso Regression Model\n",
    "# List to maintain the cross validation scores \n",
    "cross_val_scores_lasso = [ ]\n",
    "# List to maintain the different values of Lambda\n",
    "Lambda = [ ]\n",
    "\n",
    "# Loop to compute the cross_validation scores\n",
    "for i in range(1,9):\n",
    "    lassoModel = Lasso(alpha = i * 0.25, tol = 0.0925)\n",
    "    lassoModel.fit(X_train, y_train)\n",
    "    scores = cross_val_score(lassoModel, X, y, cv = 10)\n",
    "    avg_cross_val_score = mean(scores) * 100\n",
    "    cross_val_scores_lasso.append(avg_cross_val_score)\n",
    "    Lambda.append(i*0.25)\n",
    "    \n",
    "# Loop to print the different values of cross validation scores \n",
    "for i in range(0, len(alpha)):\n",
    "    print(str(alpha[i])+ ':'+str(cross_val_scores_lasso[i]))"
   ]
  },
  {
   "cell_type": "markdown",
   "metadata": {},
   "source": [
    "## From the above output, we can conclude that the best value of lambda is 2"
   ]
  },
  {
   "cell_type": "code",
   "execution_count": 33,
   "metadata": {},
   "outputs": [
    {
     "name": "stdout",
     "output_type": "stream",
     "text": [
      "0.6976255358359325\n"
     ]
    }
   ],
   "source": [
    "# Building and fitting the Lasso Regression Model\n",
    "lassoModelChosen = Lasso(alpha = 2, tol = 0.0925)\n",
    "lassoModelChosen.fit(X_train, y_train)\n",
    "\n",
    "# Evaluating the Lasso Regression model\n",
    "print(lassoModelChosen.score(X_test,y_test))"
   ]
  },
  {
   "cell_type": "code",
   "execution_count": 36,
   "metadata": {},
   "outputs": [
    {
     "name": "stdout",
     "output_type": "stream",
     "text": [
      "Linear Regression:0.6976282426249267\n",
      "Ridge Regression:0.697530135700664\n",
      "Lasso Regression:0.6976255358359325\n"
     ]
    }
   ],
   "source": [
    "# Step 4: Comparing and Visualizing the results \n",
    "## Building the two lists for visualization \n",
    "models = ['Linear Regression','Ridge Regression','Lasso Regression']\n",
    "scores = [linearModel.score(X_test,y_test),\n",
    "          ridgeModelChosen.score(X_test,y_test),\n",
    "          lassoModelChosen.score(X_test,y_test)]\n",
    "\n",
    "# Building the dictionary to compare the scores\n",
    "mapping = { }\n",
    "mapping['Linear Regression'] = linearModel.score(X_test, y_test)\n",
    "mapping['Ridge Regression'] = ridgeModelChosen.score(X_test, y_test)\n",
    "mapping['Lasso Regression'] = lassoModelChosen.score(X_test, y_test)\n",
    "\n",
    "# Print the scores for different models \n",
    "for key, val in mapping.items( ):\n",
    "    print(str(key)+ ':'+str(val))"
   ]
  },
  {
   "cell_type": "code",
   "execution_count": 35,
   "metadata": {},
   "outputs": [
    {
     "data": {
      "image/png": "[encoded data removed]",
      "text/plain": [
       "<Figure size 432x288 with 1 Axes>"
      ]
     },
     "metadata": {
      "needs_background": "light"
     },
     "output_type": "display_data"
    }
   ],
   "source": [
    "# Plotting the scores\n",
    "plt.bar(models,scores)\n",
    "plt.xlabel('Regression Models')\n",
    "plt.ylabel('Score')\n",
    "plt.show()"
   ]
  }
 ],
 "metadata": {
  "kernelspec": {
   "display_name": "Python 3",
   "language": "python",
   "name": "python3"
  },
  "language_info": {
   "codemirror_mode": {
    "name": "ipython",
    "version": 3
   },
   "file_extension": ".py",
   "mimetype": "text/x-python",
   "name": "python",
   "nbconvert_exporter": "python",
   "pygments_lexer": "ipython3",
   "version": "3.8.5"
  }
 },
 "nbformat": 4,
 "nbformat_minor": 4
}
