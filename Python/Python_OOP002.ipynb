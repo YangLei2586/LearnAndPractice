{
 "cells": [
  {
   "cell_type": "code",
   "execution_count": null,
   "metadata": {},
   "outputs": [],
   "source": [
    "# list of software engineer with position name age level and salary\n",
    "se1 = [\"SoftwareEngineer\", \"Max\", 20, “Junior\",5000 ]\n",
    "se2 = [\"SoftwareEngineer\", \"Lisa\", 25, “Senior\",7000 ]\n",
    "# list is not the perfect data structure to repersent complex objects "
   ]
  },
  {
   "cell_type": "code",
   "execution_count": 60,
   "metadata": {},
   "outputs": [
    {
     "name": "stdout",
     "output_type": "stream",
     "text": [
      "Max 20\n",
      "Keyboard Magican\n",
      "7000 25\n",
      "Keyboard Magican\n"
     ]
    }
   ],
   "source": [
    "class SoftwareEngineer:\n",
    "    \n",
    "    #class attribute\n",
    "    alias = \"Keyboard Magican\"\n",
    "    \n",
    "    def __init__(self,name,age,level,salary):\n",
    "        #instance attributes\n",
    "        self.name = name\n",
    "        self.age = age\n",
    "        self.level= level\n",
    "        self.salary= salary\n",
    "    \n",
    "    #instance method\n",
    "    def code(self):\n",
    "        print(f\"{self.name} is writing code...\")\n",
    "    \n",
    "    def code_in_language(self,language):\n",
    "        print(f\"{self.name} is writing {language}...\")\n",
    "        \n",
    "    #def information(self):\n",
    "     #   information = f\"name = {self.name}, age={self.age}, level = {self.level}\"\n",
    "      #  return information \n",
    "    \n",
    "    def __str__(self):\n",
    "        information = f\"name = {self.name}, age={self.age}, level = {self.level}\"\n",
    "        return information \n",
    "    \n",
    "    def __eq__(self,other):\n",
    "        return self.name == other.name and self.age == other.age\n",
    "    \n",
    "    @staticmethod\n",
    "    def entry_salary(age):\n",
    "        if age<25:\n",
    "            return 5000\n",
    "        if age<30:\n",
    "            return 7000\n",
    "        return 9000\n",
    "                \n",
    "se1 = SoftwareEngineer(\"Max\",20,\"Junior\",5000)\n",
    "print(se1.name,se1.age)\n",
    "print(SoftwareEngineer.alias)\n",
    "\n",
    "se2 = SoftwareEngineer(\"Lisa\",25,\"Senior\",7000)\n",
    "print(se2.salary,se2.age)\n",
    "print(SoftwareEngineer.alias)\n"
   ]
  },
  {
   "cell_type": "code",
   "execution_count": 40,
   "metadata": {},
   "outputs": [
    {
     "name": "stdout",
     "output_type": "stream",
     "text": [
      "Max is writing code...\n",
      "Lisa is writing code...\n",
      "Max is writing Python...\n",
      "Lisa is writing C++...\n"
     ]
    },
    {
     "data": {
      "text/plain": [
       "'name = Lisa, age=25, level = Senior'"
      ]
     },
     "execution_count": 40,
     "metadata": {},
     "output_type": "execute_result"
    }
   ],
   "source": [
    "se1.code()\n",
    "se2.code()\n",
    "se1.code_in_language(\"Python\")\n",
    "se2.code_in_language(\"C++\")\n",
    "se2.information()"
   ]
  },
  {
   "cell_type": "code",
   "execution_count": 39,
   "metadata": {},
   "outputs": [
    {
     "data": {
      "text/plain": [
       "'name = Max, age=20, level = Junior'"
      ]
     },
     "execution_count": 39,
     "metadata": {},
     "output_type": "execute_result"
    }
   ],
   "source": [
    "se1.information()"
   ]
  },
  {
   "cell_type": "code",
   "execution_count": 41,
   "metadata": {},
   "outputs": [
    {
     "name": "stdout",
     "output_type": "stream",
     "text": [
      "<__main__.SoftwareEngineer object at 0x000001339B3ECE80>\n"
     ]
    }
   ],
   "source": [
    "print(se1)"
   ]
  },
  {
   "cell_type": "code",
   "execution_count": 43,
   "metadata": {},
   "outputs": [
    {
     "name": "stdout",
     "output_type": "stream",
     "text": [
      "name = Max, age=20, level = Junior\n"
     ]
    }
   ],
   "source": [
    "print(se1)"
   ]
  },
  {
   "cell_type": "code",
   "execution_count": 45,
   "metadata": {},
   "outputs": [
    {
     "name": "stdout",
     "output_type": "stream",
     "text": [
      "False\n"
     ]
    }
   ],
   "source": [
    "se3 = SoftwareEngineer(\"Lisa\",25,\"Senior\",7000)\n",
    "print(se2==se3)"
   ]
  },
  {
   "cell_type": "code",
   "execution_count": 47,
   "metadata": {},
   "outputs": [
    {
     "name": "stdout",
     "output_type": "stream",
     "text": [
      "True\n"
     ]
    }
   ],
   "source": [
    "# after implement __eq__ method\n",
    "se3 = SoftwareEngineer(\"Lisa\",25,\"Senior\",7000)\n",
    "print(se2==se3)"
   ]
  },
  {
   "cell_type": "code",
   "execution_count": 61,
   "metadata": {},
   "outputs": [
    {
     "data": {
      "text/plain": [
       "5000"
      ]
     },
     "execution_count": 61,
     "metadata": {},
     "output_type": "execute_result"
    }
   ],
   "source": [
    "# did not use self parameter \n",
    "se1.entry_salary(24)"
   ]
  },
  {
   "cell_type": "code",
   "execution_count": 62,
   "metadata": {},
   "outputs": [
    {
     "name": "stdout",
     "output_type": "stream",
     "text": [
      "9000\n"
     ]
    }
   ],
   "source": [
    "print(SoftwareEngineer.entry_salary(39))"
   ]
  },
  {
   "cell_type": "code",
   "execution_count": 75,
   "metadata": {},
   "outputs": [],
   "source": [
    "# inherits, extend and override\n",
    "class Employee:\n",
    "    \n",
    "    def __init__(self,name,age,salary):\n",
    "        self.name = name\n",
    "        self.age = age\n",
    "        self.salary = salary\n",
    "        \n",
    "    def work(self):\n",
    "        print(f\"{self.name} is working...\")\n",
    "\n",
    "class SoftwareEngineer(Employee):\n",
    "    \n",
    "    def __init__(self,name,age,salary,level):\n",
    "        super().__init__(name,age,salary)\n",
    "        self.level = level\n",
    "        \n",
    "    def work(self):\n",
    "        print(f\"{self.name} is coding...\")\n",
    "        \n",
    "    def debug(self):\n",
    "        print(f\"{self.name} is debugging...\")\n",
    "\n",
    "class Designer(Employee):\n",
    "    \n",
    "    def work(self):\n",
    "        print(f\"{self.name} is designing...\")\n",
    "    \n",
    "    def draw(self):\n",
    "        print(f\"{self.name} is drawing...\")\n",
    "    "
   ]
  },
  {
   "cell_type": "code",
   "execution_count": 74,
   "metadata": {},
   "outputs": [
    {
     "name": "stdout",
     "output_type": "stream",
     "text": [
      "Max 25\n",
      "Max is working...\n",
      "Max is debugging...\n",
      "Junior\n",
      "Philip 27\n",
      "Philip is working...\n",
      "Philip is drawing...\n"
     ]
    }
   ],
   "source": [
    "se = SoftwareEngineer(\"Max\",25,5000,\"Junior\")\n",
    "print(se.name,se.age)\n",
    "se.work()\n",
    "se.debug()\n",
    "print(se.level)\n",
    "d =  Designer(\"Philip\",27,7000)\n",
    "print(d.name,d.age)\n",
    "d.work()\n",
    "d.draw()"
   ]
  },
  {
   "cell_type": "code",
   "execution_count": 76,
   "metadata": {},
   "outputs": [
    {
     "name": "stdout",
     "output_type": "stream",
     "text": [
      "Max is working...\n",
      "Philip is working...\n"
     ]
    }
   ],
   "source": [
    "# override the base class's work function \n",
    "se.work()\n",
    "d.work()"
   ]
  },
  {
   "cell_type": "code",
   "execution_count": 77,
   "metadata": {},
   "outputs": [
    {
     "name": "stdout",
     "output_type": "stream",
     "text": [
      "Max is coding...\n",
      "Lisa is coding...\n",
      "Philip is designing...\n"
     ]
    }
   ],
   "source": [
    "# Polymorphism enable us write codes that works on the super class but it will also work with any subclass as well\n",
    "# Polymorphism gives us a way to use a class exactly like its parent but still each child class keeps its own methods as they are\n",
    "\n",
    "employees = [SoftwareEngineer(\"Max\",20,\"Junior\",5000),\n",
    "             SoftwareEngineer(\"Lisa\",25,\"Senior\",7000),\n",
    "             Designer(\"Philip\",27,7000)]\n",
    "\n",
    "def motivate_employees(employees):\n",
    "    for employee in employees:\n",
    "        employee.work()\n",
    "\n",
    "motivate_employees(employees)"
   ]
  },
  {
   "cell_type": "code",
   "execution_count": 90,
   "metadata": {},
   "outputs": [],
   "source": [
    "# Encapsulation is the mechanism of hiding data implementation, meaning that instance variables are kept private and there is only \n",
    "# one accessor from the outside with which we can access or change these instance variables. So with this restricted access to public\n",
    "# methods so-called getter and setter method; we can also do the same for methods, so instance methods can be kept private so they\n",
    "# should only be used internally and not from the outside\n",
    "\n",
    "class SoftwareEngineer:\n",
    "    \n",
    "    def __init__(self,name,age):\n",
    "        self.name = name \n",
    "        self.age = age\n",
    "        self.__salary = None # set salary to be private attribute maybe only accessed by HR department \n",
    "        self._num_bugs_solved = 0\n",
    "        \n",
    "    def code(self):\n",
    "        self._num_bugs_solved += 1\n",
    "        \n",
    "    # getter    \n",
    "    def get_salary(self):\n",
    "        return self._salary\n",
    "    \n",
    "    # setter\n",
    "    #def set_salary(self, base_value):\n",
    "        # check value, enforce constraints\n",
    "       # if value < 1000:\n",
    "         #   self._salary = 1000\n",
    "       # if value > 20000:\n",
    "        #    self._salary = 20000\n",
    "        #self._salary = value\n",
    "        \n",
    "    def set_salary(self, base_value):\n",
    "        self._salary = self._calculate_salary(base_value)\n",
    "        \n",
    "    def _calculate_salary(self, base_value):\n",
    "        if self._num_bugs_solved < 10:\n",
    "            return base_value\n",
    "        if self._num_bugs_solved <100:\n",
    "            return base_value * 2\n",
    "        return base_value * 3"
   ]
  },
  {
   "cell_type": "code",
   "execution_count": 81,
   "metadata": {},
   "outputs": [
    {
     "name": "stdout",
     "output_type": "stream",
     "text": [
      "25 Max 5000\n"
     ]
    }
   ],
   "source": [
    "se = SoftwareEngineer(\"Max\", 25)\n",
    "print(se.age, se.name, se._salary)"
   ]
  },
  {
   "cell_type": "code",
   "execution_count": 82,
   "metadata": {},
   "outputs": [
    {
     "ename": "AttributeError",
     "evalue": "'SoftwareEngineer' object has no attribute '__salary'",
     "output_type": "error",
     "traceback": [
      "\u001b[1;31m---------------------------------------------------------------------------\u001b[0m",
      "\u001b[1;31mAttributeError\u001b[0m                            Traceback (most recent call last)",
      "\u001b[1;32m<ipython-input-82-d87f3dffa9f0>\u001b[0m in \u001b[0;36m<module>\u001b[1;34m\u001b[0m\n\u001b[0;32m      1\u001b[0m \u001b[1;31m# salary really become private and not accessable from the outside after using double underscore\u001b[0m\u001b[1;33m\u001b[0m\u001b[1;33m\u001b[0m\u001b[1;33m\u001b[0m\u001b[0m\n\u001b[1;32m----> 2\u001b[1;33m \u001b[0mprint\u001b[0m\u001b[1;33m(\u001b[0m\u001b[0mse\u001b[0m\u001b[1;33m.\u001b[0m\u001b[0mage\u001b[0m\u001b[1;33m,\u001b[0m \u001b[0mse\u001b[0m\u001b[1;33m.\u001b[0m\u001b[0mname\u001b[0m\u001b[1;33m,\u001b[0m \u001b[0mse\u001b[0m\u001b[1;33m.\u001b[0m\u001b[0m__salary\u001b[0m\u001b[1;33m)\u001b[0m\u001b[1;33m\u001b[0m\u001b[1;33m\u001b[0m\u001b[0m\n\u001b[0m",
      "\u001b[1;31mAttributeError\u001b[0m: 'SoftwareEngineer' object has no attribute '__salary'"
     ]
    }
   ],
   "source": [
    "# salary really become private and not accessable from the outside after using double underscore as Error below displayed\n",
    "# _x is called a protected attribute while __x is called a private attribute. in real single underscore is more common \n",
    "# Here we use the word \"private\" for internal attributes with only one leading underscore as well\n",
    "print(se.age, se.name, se.__salary)"
   ]
  },
  {
   "cell_type": "code",
   "execution_count": 86,
   "metadata": {},
   "outputs": [
    {
     "data": {
      "text/plain": [
       "6000"
      ]
     },
     "execution_count": 86,
     "metadata": {},
     "output_type": "execute_result"
    }
   ],
   "source": [
    "se = SoftwareEngineer(\"Max\",25)\n",
    "se.set_salary(6000)\n",
    "se.get_salary()\n",
    "# setter and getter should be the only way to access the private attributes outside why its useful becasue we can use them \n",
    "# to check value, enforce constraints..."
   ]
  },
  {
   "cell_type": "code",
   "execution_count": 93,
   "metadata": {},
   "outputs": [
    {
     "name": "stdout",
     "output_type": "stream",
     "text": [
      "25 Max\n",
      "70\n",
      "12000\n"
     ]
    }
   ],
   "source": [
    "se = SoftwareEngineer(\"Max\",25)\n",
    "print(se.age,se.name)\n",
    "\n",
    "for i in range(70):\n",
    "    se.code()\n",
    "    \n",
    "print(se._num_bugs_solved)\n",
    "se.set_salary(6000)\n",
    "print(se.get_salary())\n",
    "# Abstraction can be thought of as a natural extention of encapsulation.When applying abstraction means that each object should \n",
    "# only expose a high level mechanism for using it and hide internal implementation details. It should only reveal the operations \n",
    "# relevant for the other objects  "
   ]
  },
  {
   "cell_type": "code",
   "execution_count": 98,
   "metadata": {},
   "outputs": [],
   "source": [
    "# Properties \n",
    "class SoftwareEngineer:\n",
    "    \n",
    "    def __init__(self):\n",
    "        self._salary = None\n",
    "    \n",
    "    @property\n",
    "    def salary(self):\n",
    "        return self._salary\n",
    "    \n",
    "    @salary.setter\n",
    "    def salary(self,value):\n",
    "        self._salary = value\n",
    "    \n",
    "    @salary.deleter\n",
    "    def salary(self):\n",
    "        del self._salary"
   ]
  },
  {
   "cell_type": "code",
   "execution_count": 95,
   "metadata": {},
   "outputs": [
    {
     "name": "stdout",
     "output_type": "stream",
     "text": [
      "6000\n"
     ]
    }
   ],
   "source": [
    "se = SoftwareEngineer()\n",
    "se.salary = 6000\n",
    "print(se.salary)"
   ]
  },
  {
   "cell_type": "code",
   "execution_count": 100,
   "metadata": {},
   "outputs": [
    {
     "ename": "AttributeError",
     "evalue": "'SoftwareEngineer' object has no attribute '_salary'",
     "output_type": "error",
     "traceback": [
      "\u001b[1;31m---------------------------------------------------------------------------\u001b[0m",
      "\u001b[1;31mAttributeError\u001b[0m                            Traceback (most recent call last)",
      "\u001b[1;32m<ipython-input-100-af5f3a2f0b7d>\u001b[0m in \u001b[0;36m<module>\u001b[1;34m\u001b[0m\n\u001b[0;32m      2\u001b[0m \u001b[0mse\u001b[0m\u001b[1;33m.\u001b[0m\u001b[0msalary\u001b[0m \u001b[1;33m=\u001b[0m \u001b[1;36m6000\u001b[0m\u001b[1;33m\u001b[0m\u001b[1;33m\u001b[0m\u001b[0m\n\u001b[0;32m      3\u001b[0m \u001b[1;32mdel\u001b[0m \u001b[0mse\u001b[0m\u001b[1;33m.\u001b[0m\u001b[0msalary\u001b[0m\u001b[1;33m\u001b[0m\u001b[1;33m\u001b[0m\u001b[0m\n\u001b[1;32m----> 4\u001b[1;33m \u001b[0mprint\u001b[0m\u001b[1;33m(\u001b[0m\u001b[0mse\u001b[0m\u001b[1;33m.\u001b[0m\u001b[0msalary\u001b[0m\u001b[1;33m)\u001b[0m\u001b[1;33m\u001b[0m\u001b[1;33m\u001b[0m\u001b[0m\n\u001b[0m",
      "\u001b[1;32m<ipython-input-98-e7529c357d64>\u001b[0m in \u001b[0;36msalary\u001b[1;34m(self)\u001b[0m\n\u001b[0;32m      7\u001b[0m     \u001b[1;33m@\u001b[0m\u001b[0mproperty\u001b[0m\u001b[1;33m\u001b[0m\u001b[1;33m\u001b[0m\u001b[0m\n\u001b[0;32m      8\u001b[0m     \u001b[1;32mdef\u001b[0m \u001b[0msalary\u001b[0m\u001b[1;33m(\u001b[0m\u001b[0mself\u001b[0m\u001b[1;33m)\u001b[0m\u001b[1;33m:\u001b[0m\u001b[1;33m\u001b[0m\u001b[1;33m\u001b[0m\u001b[0m\n\u001b[1;32m----> 9\u001b[1;33m         \u001b[1;32mreturn\u001b[0m \u001b[0mself\u001b[0m\u001b[1;33m.\u001b[0m\u001b[0m_salary\u001b[0m\u001b[1;33m\u001b[0m\u001b[1;33m\u001b[0m\u001b[0m\n\u001b[0m\u001b[0;32m     10\u001b[0m \u001b[1;33m\u001b[0m\u001b[0m\n\u001b[0;32m     11\u001b[0m     \u001b[1;33m@\u001b[0m\u001b[0msalary\u001b[0m\u001b[1;33m.\u001b[0m\u001b[0msetter\u001b[0m\u001b[1;33m\u001b[0m\u001b[1;33m\u001b[0m\u001b[0m\n",
      "\u001b[1;31mAttributeError\u001b[0m: 'SoftwareEngineer' object has no attribute '_salary'"
     ]
    }
   ],
   "source": [
    "# getter > @property setter >@x.setter\n",
    "se = SoftwareEngineer()\n",
    "se.salary = 6000\n",
    "del se.salary\n",
    "print(se.salary) # as displayed below salary value was deleted we can not print anymore "
   ]
  }
 ],
 "metadata": {
  "kernelspec": {
   "display_name": "Python 3",
   "language": "python",
   "name": "python3"
  },
  "language_info": {
   "codemirror_mode": {
    "name": "ipython",
    "version": 3
   },
   "file_extension": ".py",
   "mimetype": "text/x-python",
   "name": "python",
   "nbconvert_exporter": "python",
   "pygments_lexer": "ipython3",
   "version": "3.8.5"
  }
 },
 "nbformat": 4,
 "nbformat_minor": 4
}
